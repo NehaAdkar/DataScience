{
 "cells": [
  {
   "cell_type": "markdown",
   "id": "2776003f-39f8-449d-bdd5-ef000be0bbe7",
   "metadata": {},
   "source": [
    "# Data Science Tools and Ecosystem"
   ]
  },
  {
   "cell_type": "markdown",
   "id": "f59dc02d-d2a8-43b9-9080-54b64283c27a",
   "metadata": {},
   "source": [
    "In this notebook, Data Science Tools and Ecosystem are summarized."
   ]
  },
  {
   "cell_type": "markdown",
   "id": "e2be77c4-1c1a-45db-848a-38f695c87d77",
   "metadata": {},
   "source": [
    "Objectives:\n",
    "- Popular Languages in Data Science\n",
    "- Common Libraries in Data Science\n",
    "- Tools used in Data Science\n",
    "- Examples of arithmetic operations in Python"
   ]
  },
  {
   "cell_type": "markdown",
   "id": "4e1b279e-bcc4-47ea-9d0c-12523dd64d05",
   "metadata": {},
   "source": [
    "Some of the popular languages that Data Scientists use are:\n",
    "1. Python\n",
    "2. R\n",
    "3. Weka\n",
    "\n"
   ]
  },
  {
   "cell_type": "markdown",
   "id": "28802b4b-bee3-4149-a033-fb454637bf88",
   "metadata": {},
   "source": [
    "Some of the commonly used libraries used by Data Scientists include:\n",
    "1. Pandas\n",
    "2. NumPy\n",
    "3. SciPy\n",
    "4. Matplotlib"
   ]
  },
  {
   "cell_type": "markdown",
   "id": "108bc5d8-0168-4b3e-b506-aff60242a294",
   "metadata": {},
   "source": [
    "|Data Science Tools|\n",
    "|------------------|\n",
    "|Apache Spark|\n",
    "|TensorFlow|\n",
    "|Jupyter Notebooks|\n"
   ]
  },
  {
   "cell_type": "markdown",
   "id": "c4bbdab8-6f00-482f-b789-26ed1b10b608",
   "metadata": {},
   "source": [
    "### Below are a few examples of evaluating arithmetic expressions in Python"
   ]
  },
  {
   "cell_type": "code",
   "execution_count": 15,
   "id": "13babf37-1688-4085-8fa0-58c4afb452c4",
   "metadata": {},
   "outputs": [
    {
     "data": {
      "text/plain": [
       "17"
      ]
     },
     "execution_count": 15,
     "metadata": {},
     "output_type": "execute_result"
    }
   ],
   "source": [
    "# This a simple arithmetic expression to mutiply then add integers\n",
    "(3*4)+5"
   ]
  },
  {
   "cell_type": "code",
   "execution_count": 17,
   "id": "e0f6051c-e2b0-4203-8d10-7ad7bfd2c196",
   "metadata": {},
   "outputs": [
    {
     "data": {
      "text/plain": [
       "3.3333333333333335"
      ]
     },
     "execution_count": 17,
     "metadata": {},
     "output_type": "execute_result"
    }
   ],
   "source": [
    "#This will convert 200 minutes to hours by diving by 60\n",
    "200/60"
   ]
  },
  {
   "cell_type": "markdown",
   "id": "92c644af-fde2-406b-8439-e702ed320db8",
   "metadata": {},
   "source": [
    "## Author\n",
    "Neha Adkar"
   ]
  }
 ],
 "metadata": {
  "kernelspec": {
   "display_name": "Python 3 (ipykernel)",
   "language": "python",
   "name": "python3"
  },
  "language_info": {
   "codemirror_mode": {
    "name": "ipython",
    "version": 3
   },
   "file_extension": ".py",
   "mimetype": "text/x-python",
   "name": "python",
   "nbconvert_exporter": "python",
   "pygments_lexer": "ipython3",
   "version": "3.12.4"
  }
 },
 "nbformat": 4,
 "nbformat_minor": 5
}
